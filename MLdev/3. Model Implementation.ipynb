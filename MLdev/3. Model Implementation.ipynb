{
 "cells": [
  {
   "cell_type": "code",
   "execution_count": 1,
   "id": "d799b832",
   "metadata": {},
   "outputs": [],
   "source": [
    "import joblib\n",
    "import numpy as np\n",
    "from datetime import datetime\n",
    "\n",
    "# load the model from disk\n",
    "filename = 'regression_model.joblib'\n",
    "loaded_model = joblib.load(open(filename, 'rb'))"
   ]
  },
  {
   "cell_type": "code",
   "execution_count": 2,
   "id": "ea29ac0d",
   "metadata": {},
   "outputs": [],
   "source": [
    "import pandas as pd\n",
    "\n",
    "holidays_csv = pd.read_csv('encoded_holidays.csv') "
   ]
  },
  {
   "cell_type": "code",
   "execution_count": 3,
   "id": "585f7e14",
   "metadata": {},
   "outputs": [],
   "source": [
    "import requests\n",
    "\n",
    "def get_holiday(date):\n",
    "    # Convert the input date string to a datetime object\n",
    "    #date_object = datetime.strptime(date, '%Y-%m-%d')\n",
    "\n",
    "    # Step 2: Connect to API to check if there's a holiday on the date\n",
    "    api_key = '6084078ab29632c3a322a5ddc8a3073a1042967e'\n",
    "    api_url = f'https://calendarific.com/api/v2/holidays?api_key={api_key}&country=MY&year={date.year}&month={date.month}&day={date.day}'\n",
    "\n",
    "    try:\n",
    "        response = requests.get(api_url)\n",
    "        response.raise_for_status()  # Raise an exception for bad responses (e.g., 404)\n",
    "\n",
    "        holiday_data = response.json()\n",
    "\n",
    "        # Check if 'response' is present in the JSON data\n",
    "        if 'response' in holiday_data:\n",
    "            is_holiday = 'holidays' in holiday_data['response'] and len(holiday_data['response']['holidays']) > 0\n",
    "\n",
    "            # Further processing based on 'is_holiday'\n",
    "            if is_holiday:\n",
    "\n",
    "                # Add your logic to obtain the encoded label if needed\n",
    "                try:\n",
    "                    holiday_name = holiday_data['response']['holidays'][0]['name']\n",
    "                    matching_holiday = holidays_csv[holidays_csv['HolidaysName'] == holiday_name]\n",
    "\n",
    "                    if not matching_holiday.empty:\n",
    "                        encoded_label = matching_holiday['NumericEncoded'].values[0]\n",
    "                        print(f\"Holiday Name: {holiday_name}, Encoded label: {encoded_label}\")\n",
    "                    else:\n",
    "                        print(\"Error: Matching holiday not found in the CSV.\")\n",
    "                except Exception as processing_error:\n",
    "                    print(f\"Error in processing holiday: {processing_error}\")\n",
    "                    raise  # Reraise the exception to see the full traceback\n",
    "            else:\n",
    "                encoded_label = 47\n",
    "\n",
    "        else:\n",
    "            raise KeyError(\"'response' key not found in the API response\")\n",
    "\n",
    "    except requests.exceptions.RequestException as e:\n",
    "        print(f\"Error connecting to API: {e}\")\n",
    "        return None\n",
    "    except Exception as e:\n",
    "        print(f\"Error in processing: {e}\")\n",
    "        print(\"Full traceback:\")\n",
    "        import traceback\n",
    "        traceback.print_exc()  # Print the full traceback\n",
    "        return None\n",
    "\n",
    "    return encoded_label"
   ]
  },
  {
   "cell_type": "code",
   "execution_count": 4,
   "id": "7490ca5c",
   "metadata": {},
   "outputs": [],
   "source": [
    "import requests\n",
    "from datetime import datetime\n",
    "\n",
    "def get_forecast(date_time):\n",
    "    \n",
    "    # Parse the input datetime string\n",
    "    #dt_object = datetime.strptime(date_time, '%Y-%m-%d %H:%M')\n",
    "\n",
    "    # Format the datetime object as a string in the desired API format\n",
    "    formatted_datetime = date_time.strftime('%Y-%m-%dT%H:%M')\n",
    "\n",
    "    # Make the API request\n",
    "    response = requests.get(\"https://api.open-meteo.com/v1/forecast?latitude=3.1412&longitude=101.6865&hourly=temperature_2m,rain&forecast_days=16\")\n",
    "    \n",
    "    # Check if the request was successful (status code 200)\n",
    "    if response.status_code == 200:\n",
    "        data = response.json()\n",
    "\n",
    "        # Extract relevant information from the API response\n",
    "        time_index = data[\"hourly\"][\"time\"].index(formatted_datetime)\n",
    "        temperature = data[\"hourly\"][\"temperature_2m\"][time_index]\n",
    "        rain = data[\"hourly\"][\"rain\"][time_index]\n",
    "        \n",
    "        return temperature, rain\n",
    "    else:\n",
    "        # Print an error message if the request was not successful\n",
    "        print(f\"Error: {response.status_code}\")\n",
    "        return None"
   ]
  },
  {
   "cell_type": "code",
   "execution_count": 8,
   "id": "9ddea644",
   "metadata": {},
   "outputs": [
    {
     "name": "stdout",
     "output_type": "stream",
     "text": [
      "Holiday Name: Birthday of the Governor of Sarawak, Encoded label: 4\n",
      "[[1, 4, 26.4, 0.0, 1, 5]]\n"
     ]
    }
   ],
   "source": [
    "from datetime import datetime\n",
    "\n",
    "def process_input(user_input_datetime):\n",
    "    # Convert the input string to a datetime object\n",
    "    user_datetime = datetime.strptime(user_input_datetime, '%Y-%m-%d %H:%M')\n",
    "\n",
    "    # Extract features from the datetime object\n",
    "    peak_hour = 1 if (12 <= user_datetime.hour <= 14) or (16 <= user_datetime.hour <= 18) else 0\n",
    "\n",
    "    # Define the get_holiday function or import it if it's in a separate module\n",
    "    holidays = get_holiday(user_datetime.date())  # You need to define list_of_holidays\n",
    "    \n",
    "    result = get_forecast(user_datetime)\n",
    "    temperature, rain = result\n",
    "    \n",
    "    # Extract features from the datetime object\n",
    "    open_hour = 1 if 10 <= user_datetime.hour <= 20 else 0\n",
    "    \n",
    "    day_of_week = user_datetime.weekday()\n",
    "    \n",
    "    input_data = [[peak_hour, holidays, temperature, rain, open_hour, day_of_week]]\n",
    "    return input_data   \n",
    "\n",
    "# Example user input\n",
    "user_input_datetime = '2023-10-14 17:00'\n",
    "input_data = (process_input(user_input_datetime))\n",
    "print(input_data)"
   ]
  },
  {
   "cell_type": "code",
   "execution_count": 9,
   "id": "d059f923",
   "metadata": {},
   "outputs": [
    {
     "name": "stderr",
     "output_type": "stream",
     "text": [
      "C:\\Users\\syahi\\anaconda3\\lib\\site-packages\\sklearn\\base.py:465: UserWarning: X does not have valid feature names, but RandomForestClassifier was fitted with feature names\n",
      "  warnings.warn(\n"
     ]
    },
    {
     "data": {
      "text/plain": [
       "array([3], dtype=int64)"
      ]
     },
     "execution_count": 9,
     "metadata": {},
     "output_type": "execute_result"
    }
   ],
   "source": [
    "# Make predictions\n",
    "predictions = loaded_model.predict(input_data)\n",
    "predictions"
   ]
  },
  {
   "cell_type": "code",
   "execution_count": 10,
   "id": "14c74528",
   "metadata": {},
   "outputs": [
    {
     "name": "stdout",
     "output_type": "stream",
     "text": [
      "['3000-4000']\n"
     ]
    }
   ],
   "source": [
    "import numpy as np\n",
    "\n",
    "# Define the bin ranges and bin names\n",
    "bin_ranges = [0, 1000, 2000, 3000, 4000, 5000, 6000]\n",
    "bin_names = [0, 1, 2, 3, 4, 5]\n",
    "\n",
    "# Create a dictionary to map bin indices to bin ranges\n",
    "bin_mapping = {bin_idx: f'{bin_ranges[bin_idx]}-{bin_ranges[bin_idx + 1]}' for bin_idx in range(len(bin_names))}\n",
    "\n",
    "# Create a list to store the corresponding bin ranges for each prediction\n",
    "output_bin_ranges = []\n",
    "\n",
    "# Map each prediction to its corresponding bin range\n",
    "for prediction in predictions:\n",
    "    output_bin_range = bin_mapping.get(prediction, 'Unknown')\n",
    "    output_bin_ranges.append(output_bin_range)\n",
    "\n",
    "# Display the result\n",
    "print(output_bin_ranges)"
   ]
  },
  {
   "cell_type": "code",
   "execution_count": null,
   "id": "988cf786",
   "metadata": {},
   "outputs": [],
   "source": []
  },
  {
   "cell_type": "code",
   "execution_count": null,
   "id": "5a0e1b43",
   "metadata": {},
   "outputs": [],
   "source": []
  }
 ],
 "metadata": {
  "kernelspec": {
   "display_name": "Python 3 (ipykernel)",
   "language": "python",
   "name": "python3"
  },
  "language_info": {
   "codemirror_mode": {
    "name": "ipython",
    "version": 3
   },
   "file_extension": ".py",
   "mimetype": "text/x-python",
   "name": "python",
   "nbconvert_exporter": "python",
   "pygments_lexer": "ipython3",
   "version": "3.11.5"
  }
 },
 "nbformat": 4,
 "nbformat_minor": 5
}
